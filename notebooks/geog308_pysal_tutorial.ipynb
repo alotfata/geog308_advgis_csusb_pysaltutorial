{
 "cells": [
  {
   "cell_type": "markdown",
   "metadata": {},
   "source": [
    "# GEOG 308 - PySAL Demo for Spatial Data Preparation & GeoVisualization"
   ]
  },
  {
   "cell_type": "markdown",
   "metadata": {},
   "source": [
    "<font size=\"3\">\n",
    "Dr. Aynaz Lotfata <br>\n",
    "Visiting Assistant Professor <br>\n",
    "Miami University, OH \n",
    "</font>"
   ]
  },
  {
   "cell_type": "markdown",
   "metadata": {},
   "source": [
    "This short demo will show you how to:\n",
    "1. Create geographic data from flat text or raw geometries\n",
    "2. Write out that data to file\n",
    "3. Plot the data on a map\n",
    "4. Geovisualization by a specific attribute"
   ]
  },
  {
   "cell_type": "markdown",
   "metadata": {},
   "source": [
    "Following Python packages will be used for the tutorial"
   ]
  },
  {
   "cell_type": "code",
   "execution_count": null,
   "metadata": {},
   "outputs": [],
   "source": [
    "import geopandas as gpd # to read/write spatial data\n",
    "import matplotlib.pyplot as plt # to visualize data\n",
    "import pandas # to read/write plain tables\n",
    "\n",
    "# to display a few webpages within the notebook\n",
    "from IPython.display import IFrame\n",
    "from shapely import wkb \n",
    "\n",
    "import libpysal as lp #pysal library\n",
    "import seaborn as sbn #statistical distribution plotting\n",
    "\n",
    "%matplotlib inline"
   ]
  },
  {
   "cell_type": "markdown",
   "metadata": {},
   "source": [
    "# Reading data"
   ]
  },
  {
   "cell_type": "markdown",
   "metadata": {},
   "source": [
    "Following Points to note:\n",
    "1. In many cases, you may have *prepared* data in format such as shapefiles, `tiff` rasters, geopackage `.gpkg` files.\n",
    "2. A common issue when working with databases having *raw* data is how to create geodata from flat text files.\n",
    "\n",
    "We will use sample data from [insideairbnb.com](https://insideairbnb.com) which contains features & prices for AirBnB locations in *Austin, TX*"
   ]
  },
  {
   "cell_type": "code",
   "execution_count": null,
   "metadata": {},
   "outputs": [],
   "source": [
    "listings = pandas.read_csv('../data/listings.csv.gz')\n",
    "neighborhoods = pandas.read_csv('../data/neighborhoods.csv')"
   ]
  },
  {
   "cell_type": "markdown",
   "metadata": {},
   "source": [
    "Let us see how many `listings` and how many `neighborhoods` do the two datasets contain:"
   ]
  },
  {
   "cell_type": "code",
   "execution_count": null,
   "metadata": {},
   "outputs": [],
   "source": [
    "print(listings.shape) \n",
    "print(neighborhoods.shape)"
   ]
  },
  {
   "cell_type": "markdown",
   "metadata": {},
   "source": [
    "For the first dataset, the `listings` data, records are provided with information about the latitude & longitude of the listing.\n",
    "\n",
    "Let us see the first 5 rows of `listings` data:"
   ]
  },
  {
   "cell_type": "code",
   "execution_count": null,
   "metadata": {},
   "outputs": [],
   "source": [
    "listings.head()"
   ]
  },
  {
   "cell_type": "markdown",
   "metadata": {},
   "source": [
    "Let us see the what columns are in the `listings` data"
   ]
  },
  {
   "cell_type": "code",
   "execution_count": null,
   "metadata": {},
   "outputs": [],
   "source": [
    "list(listings.columns)"
   ]
  },
  {
   "cell_type": "markdown",
   "metadata": {},
   "source": [
    "From all the columns, following columns that contain geographic information can be used from the above dataframe:\n",
    "1. city\n",
    "2. state\n",
    "3. zipcode\n",
    "4. hood, which means neighborhood\n",
    "5. country\n",
    "6. latitude & longitude, which are the coordinates of the listing\n",
    "geometry, which is the well-known text representation of the point iself."
   ]
  },
  {
   "cell_type": "markdown",
   "metadata": {},
   "source": [
    "Now, let us look at the `neighborhoods` data\n",
    "1. Examine the first 5 rows in this dataset\n",
    "2. Identify names of columns in this dataset"
   ]
  },
  {
   "cell_type": "code",
   "execution_count": null,
   "metadata": {},
   "outputs": [],
   "source": [
    "neighborhoods.head()"
   ]
  },
  {
   "cell_type": "code",
   "execution_count": null,
   "metadata": {},
   "outputs": [],
   "source": [
    "list(neighborhoods.columns)"
   ]
  },
  {
   "cell_type": "markdown",
   "metadata": {},
   "source": [
    "What is the **wkb** field above?\n",
    "1. It is the only field that is useful in constructing the geometric representation of the data.\n",
    "2. It is called *well-known binary representation* - a common format to represent geographic information.\n",
    "3. `neighborhoods` are represented by *polygons*. \n",
    "4. **wkb** field above encodes the shape of these *polygons*"
   ]
  },
  {
   "cell_type": "markdown",
   "metadata": {},
   "source": [
    "# Creating Geometries from raw co-ordinates"
   ]
  },
  {
   "cell_type": "markdown",
   "metadata": {},
   "source": [
    "For the `listings` dataset, `geopandas` is used to construct a *\"geodataframe\"*, useful for working with geographic data, directly from coordinates. \n",
    "\n",
    "We can do this using the `points_from_xy` function using *latitudes* and *longitudes* data from `listings`:"
   ]
  },
  {
   "cell_type": "code",
   "execution_count": null,
   "metadata": {},
   "outputs": [],
   "source": [
    "geometries = gpd.points_from_xy(listings.longitude, listings.latitude)"
   ]
  },
  {
   "cell_type": "markdown",
   "metadata": {},
   "source": [
    "Then we make a geodataframe for `listings` as follows:"
   ]
  },
  {
   "cell_type": "code",
   "execution_count": null,
   "metadata": {},
   "outputs": [],
   "source": [
    "listings = gpd.GeoDataFrame(listings, geometry=geometries)"
   ]
  },
  {
   "cell_type": "markdown",
   "metadata": {},
   "source": [
    "How about for the `neighborhoods` data:\n",
    "1. For the `neighborhoods` data, we must parse the well-known binary. \n",
    "2. The package that handles geometric data in Python is called `shapely`. 3. Using the `wkb` module in `shapely`, we can parse the well-known binary and obtain a geometric representation for the neighborhoods:"
   ]
  },
  {
   "cell_type": "code",
   "execution_count": null,
   "metadata": {},
   "outputs": [],
   "source": [
    "neighborhoods['geometry'] = neighborhoods.wkb.apply(lambda shape: wkb.loads(shape, hex=True))"
   ]
  },
  {
   "cell_type": "code",
   "execution_count": null,
   "metadata": {},
   "outputs": [],
   "source": [
    "neighborhoods.geometry[0]"
   ]
  },
  {
   "cell_type": "code",
   "execution_count": null,
   "metadata": {},
   "outputs": [],
   "source": [
    "neighborhoods.geometry[1]"
   ]
  },
  {
   "cell_type": "code",
   "execution_count": null,
   "metadata": {},
   "outputs": [],
   "source": [
    "neighborhoods = gpd.GeoDataFrame(neighborhoods)\n",
    "neighborhoods.drop('wkb', axis=1, inplace=True)"
   ]
  },
  {
   "cell_type": "markdown",
   "metadata": {},
   "source": [
    "What kind of geometries do each type of data represent?\n",
    "1. `listings` is a **POINT**\n",
    "2. `neighborhoods` is a **MULTIPOLYGON**"
   ]
  },
  {
   "cell_type": "code",
   "execution_count": null,
   "metadata": {},
   "outputs": [],
   "source": [
    "listings.geometry[[0]]"
   ]
  },
  {
   "cell_type": "code",
   "execution_count": null,
   "metadata": {},
   "outputs": [],
   "source": [
    "neighborhoods.geometry[[1]]"
   ]
  },
  {
   "cell_type": "markdown",
   "metadata": {},
   "source": [
    "Let us pick an appropriate co-ordinate reference system for data in raw latitude/longitude values. This can be `espg:4326` format -- details available at [epsg.io/4326](https://epsg.io/4326) (WGS 84 -- WGS84 - World Geodetic System 1984, used in GPS)"
   ]
  },
  {
   "cell_type": "code",
   "execution_count": null,
   "metadata": {},
   "outputs": [],
   "source": [
    "listings.crs = {'init':'epsg:4326'}\n",
    "neighborhoods.crs = {'init': 'epsg:4326'}"
   ]
  },
  {
   "cell_type": "markdown",
   "metadata": {},
   "source": [
    "Then, we can write them out to file using the `to_file` method on a geodataframe: "
   ]
  },
  {
   "cell_type": "code",
   "execution_count": null,
   "metadata": {},
   "outputs": [],
   "source": [
    "neighborhoods.to_file('../data/neighborhoods.gpkg', driver='GPKG')\n",
    "listings.to_file('../data/listings.gpkg', driver='GPKG')"
   ]
  },
  {
   "cell_type": "markdown",
   "metadata": {},
   "source": [
    "# Plotting neighborhoods and listings together"
   ]
  },
  {
   "cell_type": "markdown",
   "metadata": {},
   "source": [
    "Let us pick an appropriate co-ordinate reference system for data in raw latitude/longitude values. This can be `espg:3857` format -- details available at [epsg.io/3857](https://epsg.io/3857) (WGS 84 / Pseudo-Mercator -- Spherical Mercator, Google Maps, OpenStreetMap, Bing, ArcGIS, ESRI)"
   ]
  },
  {
   "cell_type": "code",
   "execution_count": null,
   "metadata": {},
   "outputs": [],
   "source": [
    "listings = listings.to_crs(epsg=3857)\n",
    "neighborhoods = neighborhoods.to_crs(epsg=3857)"
   ]
  },
  {
   "cell_type": "code",
   "execution_count": null,
   "metadata": {},
   "outputs": [],
   "source": [
    "plt.figure(figsize=(10, 10))\n",
    "neighborhoods.boundary.plot(ax=plt.gca(), color='orangered')\n",
    "listings.plot(ax=plt.gca(), marker='.', markersize=5, color='green')"
   ]
  },
  {
   "cell_type": "markdown",
   "metadata": {},
   "source": [
    "# Geo-visualization "
   ]
  },
  {
   "cell_type": "markdown",
   "metadata": {},
   "source": [
    "Read files saved previously and drop $ sign in price of listing"
   ]
  },
  {
   "cell_type": "code",
   "execution_count": null,
   "metadata": {},
   "outputs": [],
   "source": [
    "df = gpd.read_file('../data/neighborhoods.gpkg')\n",
    "listings = gpd.read_file('../data/listings.gpkg')\n",
    "listings['price'] = listings.price.str.replace('$', '').str.replace(',','_').astype(float)"
   ]
  },
  {
   "cell_type": "markdown",
   "metadata": {},
   "source": [
    "Since price is available by `listings` we will have to calculate median price for every neighborhood before geovisualization"
   ]
  },
  {
   "cell_type": "code",
   "execution_count": null,
   "metadata": {},
   "outputs": [],
   "source": [
    "median_price = gpd.sjoin(listings[['price', 'geometry']], df, op='within')\\\n",
    "                  .groupby('index_right').price.median()\n",
    "df['median_pri'] = median_price.values"
   ]
  },
  {
   "cell_type": "code",
   "execution_count": null,
   "metadata": {},
   "outputs": [],
   "source": [
    "df['median_pri'].fillna((df['median_pri'].mean()), inplace=True)"
   ]
  },
  {
   "cell_type": "markdown",
   "metadata": {},
   "source": [
    "Plotting the distribution of median price of all neighborhoods"
   ]
  },
  {
   "cell_type": "code",
   "execution_count": null,
   "metadata": {},
   "outputs": [],
   "source": [
    "sbn.distplot(df['median_pri'])"
   ]
  },
  {
   "cell_type": "markdown",
   "metadata": {},
   "source": [
    "Geovisualizing neighborhoods by median prices"
   ]
  },
  {
   "cell_type": "code",
   "execution_count": null,
   "metadata": {},
   "outputs": [],
   "source": [
    "fig, ax = plt.subplots(figsize=(12,10), subplot_kw={'aspect':'equal'})\n",
    "df.plot(column='median_pri', scheme='Quantiles',  legend=True, ax=ax)"
   ]
  }
 ],
 "metadata": {
  "kernelspec": {
   "display_name": "Python 3",
   "language": "python",
   "name": "python3"
  },
  "language_info": {
   "codemirror_mode": {
    "name": "ipython",
    "version": 3
   },
   "file_extension": ".py",
   "mimetype": "text/x-python",
   "name": "python",
   "nbconvert_exporter": "python",
   "pygments_lexer": "ipython3",
   "version": "3.7.4"
  }
 },
 "nbformat": 4,
 "nbformat_minor": 2
}
